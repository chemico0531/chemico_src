{
  "cells": [
    {
      "cell_type": "markdown",
      "metadata": {
        "id": "view-in-github",
        "colab_type": "text"
      },
      "source": [
        "<a href=\"https://colab.research.google.com/github/chemico0531/chemico_src/blob/main/chatglm_6B_%E9%87%8F%E5%8C%964BIT_CPU%E5%8F%AF%E7%94%A8.ipynb\" target=\"_parent\"><img src=\"https://colab.research.google.com/assets/colab-badge.svg\" alt=\"Open In Colab\"/></a>"
      ]
    },
    {
      "cell_type": "markdown",
      "metadata": {
        "id": "SKQ4bH7qMGrA"
      },
      "source": [
        "# chatglm 6B 量化4BIT CPU可用\n",
        "\n"
      ]
    },
    {
      "cell_type": "markdown",
      "metadata": {
        "id": "QMMqmdiYMkvi"
      },
      "source": [
        "## 更快的 GPU\n",
        "\n",
        "<p>已购买任一 Colab 付费方案的用户可使用付费 GPU。只需在菜单中依次选择<code>运行时 &gt 更改运行时类型</code>，升级笔记本的 GPU 设置，即可启用付费加速器。根据实际可用情况，选择付费 GPU 可能会授予您使用 V100 或 A100 Nvidia GPU 的权限。</p><p>免费版 Colab 会根据配额限制和实际可用情况，授予您使用 Nvidia T4 GPU 的权限。</p>\n",
        "\n",
        "只需执行以下单元格，即可随时查看分配给您的 GPU。如果以下代码单元格的运行结果是“Not connected to a GPU”（未连接到 GPU），您可以通过以下步骤更改运行时：在菜单中依次选择<code>运行时 &gt; 更改运行时类型</code>，启用 GPU 加速器，然后重新执行该代码单元格。"
      ]
    },
    {
      "cell_type": "code",
      "execution_count": null,
      "metadata": {
        "colab": {
          "base_uri": "https://localhost:8080/"
        },
        "id": "23TOba33L4qf",
        "outputId": "ba3c25ae-b130-45b3-94af-06cc7cdf381d"
      },
      "outputs": [
        {
          "output_type": "stream",
          "name": "stdout",
          "text": [
            "/bin/bash: line 1: nvidia-smi: command not found\n"
          ]
        }
      ],
      "source": [
        "gpu_info = !nvidia-smi\n",
        "gpu_info = '\\n'.join(gpu_info)\n",
        "if gpu_info.find('failed') >= 0:\n",
        "  print('Not connected to a GPU')\n",
        "else:\n",
        "  print(gpu_info)"
      ]
    },
    {
      "cell_type": "markdown",
      "metadata": {
        "id": "Sa-IrJS1aRVJ"
      },
      "source": [
        "若要在笔记本上使用 GPU，请在菜单中依次选择<code>运行时 &gt; 更改运行时类型</code>，然后从“硬件加速器”下拉菜单中选择 GPU。"
      ]
    },
    {
      "cell_type": "markdown",
      "metadata": {
        "id": "65MSuHKqNeBZ"
      },
      "source": [
        "## 更多内存\n",
        "\n",
        "已购买任一 Colab 付费方案的用户可使用高内存虚拟机（如果可用）。\n",
        "只需运行以下代码单元格，即可随时查看您的可用内存量。如果以下代码单元格的运行结果是“Not using a high-RAM runtime”（未使用高 RAM 运行时），您可以通过以下步骤启用高 RAM 运行时：在菜单中依次选择<code>运行时 &gt; 更改运行时类型</code>，然后在“运行时规格”下拉菜单中选择“高 RAM”。完成选择后，重新执行该代码单元格。"
      ]
    },
    {
      "cell_type": "code",
      "execution_count": null,
      "metadata": {
        "colab": {
          "base_uri": "https://localhost:8080/"
        },
        "id": "V1G82GuO-tez",
        "outputId": "6a368253-ab86-4bdc-f8eb-716b7428562e"
      },
      "outputs": [
        {
          "output_type": "stream",
          "name": "stdout",
          "text": [
            "Your runtime has 13.6 gigabytes of available RAM\n",
            "\n",
            "Not using a high-RAM runtime\n"
          ]
        }
      ],
      "source": [
        "from psutil import virtual_memory\n",
        "ram_gb = virtual_memory().total / 1e9\n",
        "print('Your runtime has {:.1f} gigabytes of available RAM\\n'.format(ram_gb))\n",
        "\n",
        "if ram_gb < 20:\n",
        "  print('Not using a high-RAM runtime')\n",
        "else:\n",
        "  print('You are using a high-RAM runtime!')"
      ]
    },
    {
      "cell_type": "code",
      "source": [],
      "metadata": {
        "id": "Sq3bsBPPw4gL"
      },
      "execution_count": null,
      "outputs": []
    },
    {
      "cell_type": "code",
      "source": [
        "from google.colab import drive\n",
        "drive.mount('/content/gdrive')"
      ],
      "metadata": {
        "id": "v7HvDJeKuDO9",
        "colab": {
          "base_uri": "https://localhost:8080/"
        },
        "outputId": "1236c7ad-3847-4892-c7c6-2f74a78b772e"
      },
      "execution_count": null,
      "outputs": [
        {
          "output_type": "stream",
          "name": "stdout",
          "text": [
            "Mounted at /content/gdrive\n"
          ]
        }
      ]
    },
    {
      "cell_type": "code",
      "source": [
        "!git clone --recursive https://github.com/li-plus/chatglm.cpp.git"
      ],
      "metadata": {
        "id": "Vr89-j7p2mHY",
        "colab": {
          "base_uri": "https://localhost:8080/"
        },
        "outputId": "b4e2a877-9374-4031-83e8-d64c2b3b900c"
      },
      "execution_count": null,
      "outputs": [
        {
          "output_type": "stream",
          "name": "stdout",
          "text": [
            "Cloning into 'chatglm.cpp'...\n",
            "remote: Enumerating objects: 596, done.\u001b[K\n",
            "remote: Counting objects: 100% (320/320), done.\u001b[K\n",
            "remote: Compressing objects: 100% (164/164), done.\u001b[K\n",
            "remote: Total 596 (delta 243), reused 183 (delta 155), pack-reused 276\u001b[K\n",
            "Receiving objects: 100% (596/596), 1.44 MiB | 6.08 MiB/s, done.\n",
            "Resolving deltas: 100% (347/347), done.\n",
            "Submodule 'third_party/ggml' (https://github.com/ggerganov/ggml.git) registered for path 'third_party/ggml'\n",
            "Submodule 'third_party/pybind11' (https://github.com/pybind/pybind11.git) registered for path 'third_party/pybind11'\n",
            "Submodule 'third_party/sentencepiece' (https://github.com/google/sentencepiece.git) registered for path 'third_party/sentencepiece'\n",
            "Cloning into '/content/chatglm.cpp/third_party/ggml'...\n",
            "remote: Enumerating objects: 6443, done.        \n",
            "remote: Counting objects: 100% (2790/2790), done.        \n",
            "remote: Compressing objects: 100% (341/341), done.        \n",
            "remote: Total 6443 (delta 2520), reused 2559 (delta 2426), pack-reused 3653        \n",
            "Receiving objects: 100% (6443/6443), 7.50 MiB | 13.26 MiB/s, done.\n",
            "Resolving deltas: 100% (4062/4062), done.\n",
            "Cloning into '/content/chatglm.cpp/third_party/pybind11'...\n",
            "remote: Enumerating objects: 27577, done.        \n",
            "remote: Counting objects: 100% (328/328), done.        \n",
            "remote: Compressing objects: 100% (141/141), done.        \n",
            "remote: Total 27577 (delta 195), reused 262 (delta 164), pack-reused 27249        \n",
            "Receiving objects: 100% (27577/27577), 10.53 MiB | 20.50 MiB/s, done.\n",
            "Resolving deltas: 100% (19472/19472), done.\n",
            "Cloning into '/content/chatglm.cpp/third_party/sentencepiece'...\n",
            "remote: Enumerating objects: 5106, done.        \n",
            "remote: Counting objects: 100% (2138/2138), done.        \n",
            "remote: Compressing objects: 100% (354/354), done.        \n",
            "remote: Total 5106 (delta 1858), reused 1854 (delta 1773), pack-reused 2968        \n",
            "Receiving objects: 100% (5106/5106), 26.81 MiB | 21.45 MiB/s, done.\n",
            "Resolving deltas: 100% (3511/3511), done.\n",
            "Submodule path 'third_party/ggml': checked out '6549d12f2e3176050040a86334f17c001e170f13'\n",
            "Submodule path 'third_party/pybind11': checked out '8b03ffa7c06cd9c8a38297b1c8923695d1ff1b07'\n",
            "Submodule path 'third_party/sentencepiece': checked out '635fe8423a249b6e081aacd290d8aef7476c6a28'\n"
          ]
        }
      ]
    },
    {
      "cell_type": "code",
      "source": [
        "!python3 -m pip install -U pip\n",
        "!python3 -m pip install torch tabulate tqdm transformers accelerate sentencepiece\n"
      ],
      "metadata": {
        "id": "hi9sDLnL2m-x",
        "colab": {
          "base_uri": "https://localhost:8080/"
        },
        "outputId": "606333f5-de68-4dcd-8146-cd8f9cbf17ff"
      },
      "execution_count": null,
      "outputs": [
        {
          "output_type": "stream",
          "name": "stdout",
          "text": [
            "Requirement already satisfied: pip in /usr/local/lib/python3.10/dist-packages (23.1.2)\n",
            "Collecting pip\n",
            "  Downloading pip-24.0-py3-none-any.whl (2.1 MB)\n",
            "\u001b[2K     \u001b[90m━━━━━━━━━━━━━━━━━━━━━━━━━━━━━━━━━━━━━━━━\u001b[0m \u001b[32m2.1/2.1 MB\u001b[0m \u001b[31m10.1 MB/s\u001b[0m eta \u001b[36m0:00:00\u001b[0m\n",
            "\u001b[?25hInstalling collected packages: pip\n",
            "  Attempting uninstall: pip\n",
            "    Found existing installation: pip 23.1.2\n",
            "    Uninstalling pip-23.1.2:\n",
            "      Successfully uninstalled pip-23.1.2\n",
            "Successfully installed pip-24.0\n",
            "Requirement already satisfied: torch in /usr/local/lib/python3.10/dist-packages (2.1.0+cu121)\n",
            "Requirement already satisfied: tabulate in /usr/local/lib/python3.10/dist-packages (0.9.0)\n",
            "Requirement already satisfied: tqdm in /usr/local/lib/python3.10/dist-packages (4.66.2)\n",
            "Requirement already satisfied: transformers in /usr/local/lib/python3.10/dist-packages (4.35.2)\n",
            "Collecting accelerate\n",
            "  Downloading accelerate-0.27.2-py3-none-any.whl.metadata (18 kB)\n",
            "Requirement already satisfied: sentencepiece in /usr/local/lib/python3.10/dist-packages (0.1.99)\n",
            "Requirement already satisfied: filelock in /usr/local/lib/python3.10/dist-packages (from torch) (3.13.1)\n",
            "Requirement already satisfied: typing-extensions in /usr/local/lib/python3.10/dist-packages (from torch) (4.9.0)\n",
            "Requirement already satisfied: sympy in /usr/local/lib/python3.10/dist-packages (from torch) (1.12)\n",
            "Requirement already satisfied: networkx in /usr/local/lib/python3.10/dist-packages (from torch) (3.2.1)\n",
            "Requirement already satisfied: jinja2 in /usr/local/lib/python3.10/dist-packages (from torch) (3.1.3)\n",
            "Requirement already satisfied: fsspec in /usr/local/lib/python3.10/dist-packages (from torch) (2023.6.0)\n",
            "Requirement already satisfied: triton==2.1.0 in /usr/local/lib/python3.10/dist-packages (from torch) (2.1.0)\n",
            "Requirement already satisfied: huggingface-hub<1.0,>=0.16.4 in /usr/local/lib/python3.10/dist-packages (from transformers) (0.20.3)\n",
            "Requirement already satisfied: numpy>=1.17 in /usr/local/lib/python3.10/dist-packages (from transformers) (1.25.2)\n",
            "Requirement already satisfied: packaging>=20.0 in /usr/local/lib/python3.10/dist-packages (from transformers) (23.2)\n",
            "Requirement already satisfied: pyyaml>=5.1 in /usr/local/lib/python3.10/dist-packages (from transformers) (6.0.1)\n",
            "Requirement already satisfied: regex!=2019.12.17 in /usr/local/lib/python3.10/dist-packages (from transformers) (2023.12.25)\n",
            "Requirement already satisfied: requests in /usr/local/lib/python3.10/dist-packages (from transformers) (2.31.0)\n",
            "Requirement already satisfied: tokenizers<0.19,>=0.14 in /usr/local/lib/python3.10/dist-packages (from transformers) (0.15.2)\n",
            "Requirement already satisfied: safetensors>=0.3.1 in /usr/local/lib/python3.10/dist-packages (from transformers) (0.4.2)\n",
            "Requirement already satisfied: psutil in /usr/local/lib/python3.10/dist-packages (from accelerate) (5.9.5)\n",
            "Requirement already satisfied: MarkupSafe>=2.0 in /usr/local/lib/python3.10/dist-packages (from jinja2->torch) (2.1.5)\n",
            "Requirement already satisfied: charset-normalizer<4,>=2 in /usr/local/lib/python3.10/dist-packages (from requests->transformers) (3.3.2)\n",
            "Requirement already satisfied: idna<4,>=2.5 in /usr/local/lib/python3.10/dist-packages (from requests->transformers) (3.6)\n",
            "Requirement already satisfied: urllib3<3,>=1.21.1 in /usr/local/lib/python3.10/dist-packages (from requests->transformers) (2.0.7)\n",
            "Requirement already satisfied: certifi>=2017.4.17 in /usr/local/lib/python3.10/dist-packages (from requests->transformers) (2024.2.2)\n",
            "Requirement already satisfied: mpmath>=0.19 in /usr/local/lib/python3.10/dist-packages (from sympy->torch) (1.3.0)\n",
            "Downloading accelerate-0.27.2-py3-none-any.whl (279 kB)\n",
            "\u001b[2K   \u001b[90m━━━━━━━━━━━━━━━━━━━━━━━━━━━━━━━━━━━━━━━━\u001b[0m \u001b[32m280.0/280.0 kB\u001b[0m \u001b[31m5.2 MB/s\u001b[0m eta \u001b[36m0:00:00\u001b[0m\n",
            "\u001b[?25hInstalling collected packages: accelerate\n",
            "Successfully installed accelerate-0.27.2\n",
            "\u001b[33mWARNING: Running pip as the 'root' user can result in broken permissions and conflicting behaviour with the system package manager. It is recommended to use a virtual environment instead: https://pip.pypa.io/warnings/venv\u001b[0m\u001b[33m\n",
            "\u001b[0m"
          ]
        }
      ]
    },
    {
      "cell_type": "code",
      "source": [
        "!cd /content\n",
        "!cd chatglm.cpp && cmake -B build && cmake --build build -j --config Release"
      ],
      "metadata": {
        "id": "VwkMJ_Tx2nUI",
        "colab": {
          "base_uri": "https://localhost:8080/"
        },
        "outputId": "bc439f68-455b-4c22-b774-29125ffc8448"
      },
      "execution_count": null,
      "outputs": [
        {
          "output_type": "stream",
          "name": "stdout",
          "text": [
            "-- The CXX compiler identification is GNU 11.4.0\n",
            "-- Detecting CXX compiler ABI info\n",
            "-- Detecting CXX compiler ABI info - done\n",
            "-- Check for working CXX compiler: /usr/bin/c++ - skipped\n",
            "-- Detecting CXX compile features\n",
            "-- Detecting CXX compile features - done\n",
            "\u001b[0mCMake Deprecation Warning at third_party/ggml/CMakeLists.txt:1 (cmake_minimum_required):\n",
            "  Compatibility with CMake < 3.5 will be removed from a future version of\n",
            "  CMake.\n",
            "\n",
            "  Update the VERSION argument <min> value or use a ...<max> suffix to tell\n",
            "  CMake that the project does not need compatibility with older versions.\n",
            "\n",
            "\u001b[0m\n",
            "-- The C compiler identification is GNU 11.4.0\n",
            "-- Detecting C compiler ABI info\n",
            "-- Detecting C compiler ABI info - done\n",
            "-- Check for working C compiler: /usr/bin/cc - skipped\n",
            "-- Detecting C compile features\n",
            "-- Detecting C compile features - done\n",
            "-- Performing Test CMAKE_HAVE_LIBC_PTHREAD\n",
            "-- Performing Test CMAKE_HAVE_LIBC_PTHREAD - Success\n",
            "-- Found Threads: TRUE  \n",
            "-- CMAKE_SYSTEM_PROCESSOR: x86_64\n",
            "-- x86 detected\n",
            "-- Linux detected\n",
            "\u001b[0mCMake Deprecation Warning at third_party/sentencepiece/CMakeLists.txt:15 (cmake_minimum_required):\n",
            "  Compatibility with CMake < 3.5 will be removed from a future version of\n",
            "  CMake.\n",
            "\n",
            "  Update the VERSION argument <min> value or use a ...<max> suffix to tell\n",
            "  CMake that the project does not need compatibility with older versions.\n",
            "\n",
            "\u001b[0m\n",
            "-- VERSION: 0.2.00\n",
            "-- Found OpenMP_CXX: -fopenmp (found version \"4.5\") \n",
            "-- Found OpenMP: TRUE (found version \"4.5\")  \n",
            "-- Configuring done (1.4s)\n",
            "-- Generating done (0.0s)\n",
            "-- Build files have been written to: /content/chatglm.cpp/build\n",
            "[  1%] \u001b[32mBuilding C object third_party/ggml/src/CMakeFiles/ggml.dir/ggml-alloc.c.o\u001b[0m\n",
            "[  2%] \u001b[32mBuilding C object third_party/ggml/src/CMakeFiles/ggml.dir/ggml.c.o\u001b[0m\n",
            "[  4%] \u001b[32mBuilding CXX object third_party/sentencepiece/src/CMakeFiles/sentencepiece_train-static.dir/builder.cc.o\u001b[0m\n",
            "[  5%] \u001b[32mBuilding C object third_party/ggml/src/CMakeFiles/ggml.dir/ggml-backend.c.o\u001b[0m\n",
            "[  6%] \u001b[32mBuilding CXX object third_party/sentencepiece/src/CMakeFiles/sentencepiece_train-static.dir/unicode_script.cc.o\u001b[0m\n",
            "[  8%] \u001b[32mBuilding CXX object third_party/sentencepiece/src/CMakeFiles/sentencepiece_train-static.dir/trainer_factory.cc.o\u001b[0m\n",
            "[  9%] \u001b[32mBuilding CXX object third_party/sentencepiece/src/CMakeFiles/sentencepiece-static.dir/__/third_party/protobuf-lite/arena.cc.o\u001b[0m\n",
            "[ 11%] \u001b[32mBuilding CXX object third_party/sentencepiece/src/CMakeFiles/sentencepiece-static.dir/__/third_party/protobuf-lite/arenastring.cc.o\u001b[0m\n",
            "[ 13%] \u001b[32mBuilding CXX object third_party/sentencepiece/src/CMakeFiles/sentencepiece-static.dir/__/third_party/protobuf-lite/bytestream.cc.o\u001b[0m\n",
            "[ 13%] \u001b[32mBuilding CXX object third_party/sentencepiece/src/CMakeFiles/sentencepiece_train-static.dir/trainer_interface.cc.o\u001b[0m\n",
            "[ 15%] \u001b[32mBuilding CXX object third_party/sentencepiece/src/CMakeFiles/sentencepiece-static.dir/__/third_party/protobuf-lite/coded_stream.cc.o\u001b[0m\n",
            "[ 16%] \u001b[32mBuilding CXX object third_party/sentencepiece/src/CMakeFiles/sentencepiece-static.dir/__/third_party/protobuf-lite/common.cc.o\u001b[0m\n",
            "[ 18%] \u001b[32mBuilding CXX object third_party/sentencepiece/src/CMakeFiles/sentencepiece_train-static.dir/unigram_model_trainer.cc.o\u001b[0m\n",
            "[ 19%] \u001b[32mBuilding CXX object third_party/sentencepiece/src/CMakeFiles/sentencepiece_train-static.dir/word_model_trainer.cc.o\u001b[0m\n",
            "[ 20%] \u001b[32mBuilding CXX object third_party/sentencepiece/src/CMakeFiles/sentencepiece_train-static.dir/char_model_trainer.cc.o\u001b[0m\n",
            "[ 22%] \u001b[32mBuilding CXX object third_party/sentencepiece/src/CMakeFiles/sentencepiece_train-static.dir/bpe_model_trainer.cc.o\u001b[0m\n",
            "[ 23%] \u001b[32mBuilding CXX object third_party/sentencepiece/src/CMakeFiles/sentencepiece-static.dir/__/third_party/protobuf-lite/extension_set.cc.o\u001b[0m\n",
            "[ 25%] \u001b[32mBuilding CXX object third_party/sentencepiece/src/CMakeFiles/sentencepiece_train-static.dir/sentencepiece_trainer.cc.o\u001b[0m\n",
            "[ 26%] \u001b[32mBuilding CXX object third_party/sentencepiece/src/CMakeFiles/sentencepiece_train-static.dir/pretokenizer_for_training.cc.o\u001b[0m\n",
            "[ 27%] \u001b[32mBuilding CXX object third_party/sentencepiece/src/CMakeFiles/sentencepiece-static.dir/__/third_party/protobuf-lite/generated_enum_util.cc.o\u001b[0m\n",
            "[ 29%] \u001b[32mBuilding CXX object third_party/sentencepiece/src/CMakeFiles/sentencepiece-static.dir/__/third_party/protobuf-lite/generated_message_table_driven_lite.cc.o\u001b[0m\n",
            "[ 30%] \u001b[32mBuilding CXX object third_party/sentencepiece/src/CMakeFiles/sentencepiece-static.dir/__/third_party/protobuf-lite/generated_message_util.cc.o\u001b[0m\n",
            "[ 31%] \u001b[32mBuilding CXX object third_party/sentencepiece/src/CMakeFiles/sentencepiece-static.dir/__/third_party/protobuf-lite/int128.cc.o\u001b[0m\n",
            "[ 34%] \u001b[32mBuilding CXX object third_party/sentencepiece/src/CMakeFiles/sentencepiece-static.dir/__/third_party/protobuf-lite/io_win32.cc.o\u001b[0m\n",
            "[ 34%] \u001b[32mBuilding CXX object third_party/sentencepiece/src/CMakeFiles/sentencepiece-static.dir/__/third_party/protobuf-lite/implicit_weak_message.cc.o\u001b[0m\n",
            "[ 36%] \u001b[32mBuilding CXX object third_party/sentencepiece/src/CMakeFiles/sentencepiece-static.dir/__/third_party/protobuf-lite/message_lite.cc.o\u001b[0m\n",
            "[ 37%] \u001b[32mBuilding CXX object third_party/sentencepiece/src/CMakeFiles/sentencepiece-static.dir/__/third_party/protobuf-lite/parse_context.cc.o\u001b[0m\n",
            "[ 38%] \u001b[32mBuilding CXX object third_party/sentencepiece/src/CMakeFiles/sentencepiece-static.dir/__/third_party/protobuf-lite/repeated_field.cc.o\u001b[0m\n",
            "[ 40%] \u001b[32mBuilding CXX object third_party/sentencepiece/src/CMakeFiles/sentencepiece-static.dir/__/third_party/protobuf-lite/status.cc.o\u001b[0m\n",
            "[ 41%] \u001b[32mBuilding CXX object third_party/sentencepiece/src/CMakeFiles/sentencepiece-static.dir/__/third_party/protobuf-lite/statusor.cc.o\u001b[0m\n",
            "[ 43%] \u001b[32mBuilding CXX object third_party/sentencepiece/src/CMakeFiles/sentencepiece-static.dir/__/third_party/protobuf-lite/stringpiece.cc.o\u001b[0m\n",
            "[ 44%] \u001b[32mBuilding CXX object third_party/sentencepiece/src/CMakeFiles/sentencepiece-static.dir/__/third_party/protobuf-lite/stringprintf.cc.o\u001b[0m\n",
            "[ 45%] \u001b[32mBuilding CXX object third_party/sentencepiece/src/CMakeFiles/sentencepiece-static.dir/__/third_party/protobuf-lite/structurally_valid.cc.o\u001b[0m\n",
            "[ 47%] \u001b[32mBuilding CXX object third_party/sentencepiece/src/CMakeFiles/sentencepiece-static.dir/__/third_party/protobuf-lite/time.cc.o\u001b[0m\n",
            "[ 48%] \u001b[32mBuilding CXX object third_party/sentencepiece/src/CMakeFiles/sentencepiece-static.dir/__/third_party/protobuf-lite/strutil.cc.o\u001b[0m\n",
            "[ 50%] \u001b[32mBuilding CXX object third_party/sentencepiece/src/CMakeFiles/sentencepiece-static.dir/__/third_party/protobuf-lite/wire_format_lite.cc.o\u001b[0m\n",
            "[ 51%] \u001b[32mBuilding CXX object third_party/sentencepiece/src/CMakeFiles/sentencepiece-static.dir/__/third_party/protobuf-lite/zero_copy_stream.cc.o\u001b[0m\n",
            "[ 52%] \u001b[32mBuilding CXX object third_party/sentencepiece/src/CMakeFiles/sentencepiece-static.dir/__/third_party/protobuf-lite/zero_copy_stream_impl.cc.o\u001b[0m\n",
            "[ 54%] \u001b[32mBuilding CXX object third_party/sentencepiece/src/CMakeFiles/sentencepiece-static.dir/__/third_party/protobuf-lite/zero_copy_stream_impl_lite.cc.o\u001b[0m\n",
            "[ 55%] \u001b[32mBuilding CXX object third_party/sentencepiece/src/CMakeFiles/sentencepiece-static.dir/builtin_pb/sentencepiece_model.pb.cc.o\u001b[0m\n",
            "[ 56%] \u001b[32mBuilding CXX object third_party/sentencepiece/src/CMakeFiles/sentencepiece-static.dir/builtin_pb/sentencepiece.pb.cc.o\u001b[0m\n",
            "[ 58%] \u001b[32mBuilding CXX object third_party/sentencepiece/src/CMakeFiles/sentencepiece-static.dir/bpe_model.cc.o\u001b[0m\n",
            "[ 59%] \u001b[32mBuilding CXX object third_party/sentencepiece/src/CMakeFiles/sentencepiece-static.dir/error.cc.o\u001b[0m\n",
            "[ 61%] \u001b[32mBuilding CXX object third_party/sentencepiece/src/CMakeFiles/sentencepiece-static.dir/char_model.cc.o\u001b[0m\n",
            "[ 62%] \u001b[32mBuilding CXX object third_party/sentencepiece/src/CMakeFiles/sentencepiece-static.dir/filesystem.cc.o\u001b[0m\n",
            "[ 63%] \u001b[32mBuilding CXX object third_party/sentencepiece/src/CMakeFiles/sentencepiece-static.dir/model_factory.cc.o\u001b[0m\n",
            "[ 65%] \u001b[32mBuilding CXX object third_party/sentencepiece/src/CMakeFiles/sentencepiece-static.dir/model_interface.cc.o\u001b[0m\n",
            "[ 68%] \u001b[32mBuilding CXX object third_party/sentencepiece/src/CMakeFiles/sentencepiece-static.dir/normalizer.cc.o\u001b[0m\n",
            "[ 68%] \u001b[32mBuilding CXX object third_party/sentencepiece/src/CMakeFiles/sentencepiece-static.dir/sentencepiece_processor.cc.o\u001b[0m\n",
            "[ 69%] \u001b[32mBuilding CXX object third_party/sentencepiece/src/CMakeFiles/sentencepiece-static.dir/unigram_model.cc.o\u001b[0m\n",
            "[ 70%] \u001b[32mBuilding CXX object third_party/sentencepiece/src/CMakeFiles/sentencepiece-static.dir/util.cc.o\u001b[0m\n",
            "[ 72%] \u001b[32mBuilding CXX object third_party/sentencepiece/src/CMakeFiles/sentencepiece-static.dir/word_model.cc.o\u001b[0m\n",
            "[ 73%] \u001b[32mBuilding CXX object third_party/sentencepiece/src/CMakeFiles/sentencepiece-static.dir/__/third_party/absl/flags/flag.cc.o\u001b[0m\n",
            "In file included from \u001b[01m\u001b[K/usr/include/string.h:535\u001b[m\u001b[K,\n",
            "                 from \u001b[01m\u001b[K/content/chatglm.cpp/third_party/sentencepiece/src/../third_party/protobuf-lite/google/protobuf/stubs/port.h:39\u001b[m\u001b[K,\n",
            "                 from \u001b[01m\u001b[K/content/chatglm.cpp/third_party/sentencepiece/src/../third_party/protobuf-lite/google/protobuf/stubs/macros.h:34\u001b[m\u001b[K,\n",
            "                 from \u001b[01m\u001b[K/content/chatglm.cpp/third_party/sentencepiece/src/../third_party/protobuf-lite/google/protobuf/stubs/common.h:46\u001b[m\u001b[K,\n",
            "                 from \u001b[01m\u001b[K/content/chatglm.cpp/third_party/sentencepiece/src/../third_party/protobuf-lite/google/protobuf/message_lite.h:45\u001b[m\u001b[K,\n",
            "                 from \u001b[01m\u001b[K/content/chatglm.cpp/third_party/sentencepiece/third_party/protobuf-lite/message_lite.cc:36\u001b[m\u001b[K:\n",
            "In function ‘\u001b[01m\u001b[Kvoid* memcpy(void*, const void*, size_t)\u001b[m\u001b[K’,\n",
            "    inlined from ‘\u001b[01m\u001b[Kgoogle::protobuf::uint8* google::protobuf::io::EpsCopyOutputStream::WriteRaw(const void*, int, google::protobuf::uint8*)\u001b[m\u001b[K’ at \u001b[01m\u001b[K/content/chatglm.cpp/third_party/sentencepiece/src/../third_party/protobuf-lite/google/protobuf/io/coded_stream.h:699:16\u001b[m\u001b[K,\n",
            "    inlined from ‘\u001b[01m\u001b[Kvirtual google::protobuf::uint8* google::protobuf::internal::ImplicitWeakMessage::_InternalSerialize(google::protobuf::uint8*, google::protobuf::io::EpsCopyOutputStream*) const\u001b[m\u001b[K’ at \u001b[01m\u001b[K/content/chatglm.cpp/third_party/sentencepiece/src/../third_party/protobuf-lite/google/protobuf/implicit_weak_message.h:85:28\u001b[m\u001b[K,\n",
            "    inlined from ‘\u001b[01m\u001b[Kbool google::protobuf::MessageLite::SerializePartialToZeroCopyStream(google::protobuf::io::ZeroCopyOutputStream*) const\u001b[m\u001b[K’ at \u001b[01m\u001b[K/content/chatglm.cpp/third_party/sentencepiece/third_party/protobuf-lite/message_lite.cc:419:30\u001b[m\u001b[K:\n",
            "\u001b[01m\u001b[K/usr/include/x86_64-linux-gnu/bits/string_fortified.h:29:33:\u001b[m\u001b[K \u001b[01;35m\u001b[Kwarning: \u001b[m\u001b[K‘\u001b[01m\u001b[Kvoid* __builtin___memcpy_chk(void*, const void*, long unsigned int, long unsigned int)\u001b[m\u001b[K’ specified size between 18446744071562067968 and 18446744073709551615 exceeds maximum object size 9223372036854775807 [\u001b[01;35m\u001b[K\u001b]8;;https://gcc.gnu.org/onlinedocs/gcc/Warning-Options.html#index-Wstringop-overflow=\u0007-Wstringop-overflow=\u001b]8;;\u0007\u001b[m\u001b[K]\n",
            "   29 |   return \u001b[01;35m\u001b[K__builtin___memcpy_chk (__dest, __src, __len,\u001b[m\u001b[K\n",
            "      |          \u001b[01;35m\u001b[K~~~~~~~~~~~~~~~~~~~~~~~^~~~~~~~~~~~~~~~~~~~~~\u001b[m\u001b[K\n",
            "   30 | \u001b[01;35m\u001b[K                                 __glibc_objsize0 (__dest))\u001b[m\u001b[K;\n",
            "      |                                  \u001b[01;35m\u001b[K~~~~~~~~~~~~~~~~~~~~~~~~~~\u001b[m\u001b[K\n",
            "[ 75%] \u001b[32m\u001b[1mLinking CXX static library ../../../lib/libsentencepiece.a\u001b[0m\n",
            "[ 75%] Built target sentencepiece-static\n",
            "[ 76%] \u001b[32mBuilding CXX object third_party/sentencepiece/src/CMakeFiles/spm_decode.dir/spm_decode_main.cc.o\u001b[0m\n",
            "[ 77%] \u001b[32mBuilding CXX object third_party/sentencepiece/src/CMakeFiles/spm_encode.dir/spm_encode_main.cc.o\u001b[0m\n",
            "[ 79%] \u001b[32mBuilding CXX object third_party/sentencepiece/src/CMakeFiles/spm_export_vocab.dir/spm_export_vocab_main.cc.o\u001b[0m\n",
            "[ 80%] \u001b[32m\u001b[1mLinking CXX executable ../../../bin/spm_export_vocab\u001b[0m\n",
            "[ 80%] Built target spm_export_vocab\n",
            "[ 81%] \u001b[32m\u001b[1mLinking C shared library ../../../lib/libggml.so\u001b[0m\n",
            "[ 83%] \u001b[32m\u001b[1mLinking CXX executable ../../../bin/spm_decode\u001b[0m\n",
            "[ 83%] Built target ggml\n",
            "[ 84%] \u001b[32mBuilding CXX object CMakeFiles/chatglm.dir/chatglm.cpp.o\u001b[0m\n",
            "[ 84%] Built target spm_decode\n",
            "[ 86%] \u001b[32m\u001b[1mLinking CXX executable ../../../bin/spm_encode\u001b[0m\n",
            "[ 86%] Built target spm_encode\n",
            "[ 87%] \u001b[32m\u001b[1mLinking CXX static library ../../../lib/libsentencepiece_train.a\u001b[0m\n",
            "[ 87%] Built target sentencepiece_train-static\n",
            "[ 88%] \u001b[32mBuilding CXX object third_party/sentencepiece/src/CMakeFiles/spm_normalize.dir/spm_normalize_main.cc.o\u001b[0m\n",
            "[ 90%] \u001b[32mBuilding CXX object third_party/sentencepiece/src/CMakeFiles/spm_train.dir/spm_train_main.cc.o\u001b[0m\n",
            "[ 91%] \u001b[32m\u001b[1mLinking CXX executable ../../../bin/spm_normalize\u001b[0m\n",
            "[ 93%] \u001b[32m\u001b[1mLinking CXX executable ../../../bin/spm_train\u001b[0m\n",
            "[ 93%] Built target spm_normalize\n",
            "[ 93%] Built target spm_train\n",
            "[ 94%] \u001b[32m\u001b[1mLinking CXX static library lib/libchatglm.a\u001b[0m\n",
            "[ 94%] Built target chatglm\n",
            "[ 97%] \u001b[32mBuilding CXX object CMakeFiles/main.dir/main.cpp.o\u001b[0m\n",
            "[ 97%] \u001b[32mBuilding CXX object CMakeFiles/perplexity.dir/tests/perplexity.cpp.o\u001b[0m\n",
            "[ 98%] \u001b[32m\u001b[1mLinking CXX executable bin/perplexity\u001b[0m\n",
            "[ 98%] Built target perplexity\n",
            "[100%] \u001b[32m\u001b[1mLinking CXX executable bin/main\u001b[0m\n",
            "[100%] Built target main\n"
          ]
        }
      ]
    },
    {
      "cell_type": "code",
      "source": [
        "!cd /content\n",
        "!chatglm.cpp/build/bin/main -m /content/gdrive/MyDrive/chatglm-ggml.bin -p \"你好\"\n",
        "!chatglm.cpp/build/bin/main -m /content/gdrive/MyDrive/chatglm-ggml.bin -p \"讲一个笑话\"\n",
        "!chatglm.cpp/build/bin/main -m /content/gdrive/MyDrive/chatglm-ggml.bin -i"
      ],
      "metadata": {
        "id": "Zou9q9vYykmc",
        "colab": {
          "base_uri": "https://localhost:8080/"
        },
        "outputId": "1465c680-19a2-44a0-b7a2-aaf02bde86f8"
      },
      "execution_count": null,
      "outputs": [
        {
          "output_type": "stream",
          "name": "stdout",
          "text": [
            "你好👋！我是人工智能助手 ChatGLM3-6B，很高兴见到你，欢迎问我任何问题。\n",
            "为什么鸟儿不能坐飞机?\n",
            "\n",
            "因为它们没有机票!\n",
            "    ________          __  ________    __  ___                 \n",
            "   / ____/ /_  ____ _/ /_/ ____/ /   /  |/  /_________  ____  \n",
            "  / /   / __ \\/ __ `/ __/ / __/ /   / /|_/ // ___/ __ \\/ __ \\ \n",
            " / /___/ / / / /_/ / /_/ /_/ / /___/ /  / // /__/ /_/ / /_/ / \n",
            " \\____/_/ /_/\\__,_/\\__/\\____/_____/_/  /_(_)___/ .___/ .___/  \n",
            "                                              /_/   /_/       \n",
            "\n",
            "Welcome to ChatGLM.cpp! Ask whatever you want. Type 'clear' to clear context. Type 'stop' to exit.\n",
            "\n",
            "Prompt   > ^C\n"
          ]
        }
      ]
    },
    {
      "cell_type": "code",
      "source": [
        "#PYTHON 程序调用方法\n",
        "!cd /content\n",
        "\n",
        "!pip install -U chatglm-cpp"
      ],
      "metadata": {
        "id": "aHESuUn4-6mC",
        "colab": {
          "base_uri": "https://localhost:8080/"
        },
        "outputId": "efe84c71-25b1-4f53-e104-719095e4d16d"
      },
      "execution_count": null,
      "outputs": [
        {
          "output_type": "stream",
          "name": "stdout",
          "text": [
            "Collecting chatglm-cpp\n",
            "  Downloading chatglm-cpp-0.3.1.tar.gz (2.6 MB)\n",
            "\u001b[2K     \u001b[90m━━━━━━━━━━━━━━━━━━━━━━━━━━━━━━━━━━━━━━━━\u001b[0m \u001b[32m2.6/2.6 MB\u001b[0m \u001b[31m10.1 MB/s\u001b[0m eta \u001b[36m0:00:00\u001b[0m\n",
            "\u001b[?25h  Installing build dependencies ... \u001b[?25l\u001b[?25hdone\n",
            "  Getting requirements to build wheel ... \u001b[?25l\u001b[?25hdone\n",
            "  Installing backend dependencies ... \u001b[?25l\u001b[?25hdone\n",
            "  Preparing metadata (pyproject.toml) ... \u001b[?25l\u001b[?25hdone\n",
            "Building wheels for collected packages: chatglm-cpp\n",
            "  Building wheel for chatglm-cpp (pyproject.toml) ... \u001b[?25l\u001b[?25hdone\n",
            "  Created wheel for chatglm-cpp: filename=chatglm_cpp-0.3.1-cp310-cp310-linux_x86_64.whl size=825127 sha256=b76b914863e07bc7e4466bf986eef9914dfdb1bc975fce7c051a4884f2cd60e2\n",
            "  Stored in directory: /root/.cache/pip/wheels/c2/d5/b5/013d7e9b0893e485df77a9eabb231d54a0e803438550f0d75c\n",
            "Successfully built chatglm-cpp\n",
            "Installing collected packages: chatglm-cpp\n",
            "Successfully installed chatglm-cpp-0.3.1\n",
            "\u001b[33mWARNING: Running pip as the 'root' user can result in broken permissions and conflicting behaviour with the system package manager. It is recommended to use a virtual environment instead: https://pip.pypa.io/warnings/venv\u001b[0m\u001b[33m\n",
            "\u001b[0m"
          ]
        }
      ]
    },
    {
      "cell_type": "code",
      "source": [
        "\n",
        "import chatglm_cpp\n",
        "\n",
        "pipeline = chatglm_cpp.Pipeline(\"/content/gdrive/MyDrive/chatglm-ggml.bin\")\n",
        "#pipeline.chat([chatglm_cpp.ChatMessage(role=\"user\", content=\"你好\")])\n",
        "pipeline.chat([chatglm_cpp.ChatMessage(role=\"user\", content=\"用鲁迅的口吻写一篇关于封神榜的文章\")])\n",
        "\n",
        "# 结果显示\n",
        "#ChatMessage(role=\"assistant\", content=\"你好！我是人工智能助手 ChatGLM3-6B，很高兴见到你，欢迎问我任何问题。\", tool_calls=[])\n"
      ],
      "metadata": {
        "colab": {
          "base_uri": "https://localhost:8080/"
        },
        "id": "WxAd7NpH7sRH",
        "outputId": "335aab55-de1c-4765-a3f4-9fe47fc7c9d8"
      },
      "execution_count": null,
      "outputs": [
        {
          "output_type": "execute_result",
          "data": {
            "text/plain": [
              "ChatMessage(role=\"assistant\", content=\"封神榜,一个神秘而神奇的存在。自古以来,许多人都在讲述这个神秘而神奇的故事。而今天,我将以鲁迅的口吻,为大家讲述这个故事。\n",
              "\n",
              "封神榜,是一部古老的神话传说,它的起源可以追溯到商朝时期。据传,商朝最后一个国王武丁,曾统一六国,统一了整个中原地区。但是,他的实力并不足以抵抗外族的入侵。于是,他寻求神灵的帮助,请求神灵赐予他强大的力量。于是,神灵出现了,赐予了他一张神秘的字卷,上面记载了封神榜的神秘力量。\n",
              "\n",
              "这张字卷,被放置在商朝的都城附近的一个山洞里。山洞的深处,有一个巨大的石碑,上面雕刻着封神榜的全文。只有那些有缘之人,才能找到这个山洞,获得封神榜的神秘力量。\n",
              "\n",
              "然而,封神榜并不是一件美好的事情。它的力量极其强大,但是它也需要付出巨大的代价。只有那些真正值得拥有封神榜力量的人,才能掌控封神榜的力量,而不是被封神榜的力量所控制。\n",
              "\n",
              "在封神榜的故事中,有许多精彩的情节和人物。其中最著名的,要数姜子牙和周文王了。姜子牙是一个智慧和谋略卓越的智者,他帮助周文王掌控了封神榜的力量,最终让周文王成为了商朝的统治者。\n",
              "\n",
              "封神榜的故事,不仅是一个神秘而神奇的故事,更是一个充满智慧和启示的故事。它告诉我们,只有通过自己的努力和智慧,才能获得真正的力量,而不是被神秘的力量所控制。\", tool_calls=[])"
            ]
          },
          "metadata": {},
          "execution_count": 11
        }
      ]
    },
    {
      "cell_type": "code",
      "source": [],
      "metadata": {
        "id": "11CzNDUCqlG8"
      },
      "execution_count": null,
      "outputs": []
    }
  ],
  "metadata": {
    "colab": {
      "provenance": [],
      "include_colab_link": true
    },
    "kernelspec": {
      "display_name": "Python 3",
      "name": "python3"
    }
  },
  "nbformat": 4,
  "nbformat_minor": 0
}